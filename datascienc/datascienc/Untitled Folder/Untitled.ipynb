{
 "cells": [
  {
   "cell_type": "code",
   "execution_count": 11,
   "id": "2d78fac2",
   "metadata": {},
   "outputs": [],
   "source": [
    "def swap(new_list):\n",
    "    size=len(new_list)\n",
    "    first = new_list[0]\n",
    "    new_list[0]=new_list[size-1]\n",
    "    new_list[size-1]=first\n",
    "    \n",
    "    return new_list"
   ]
  },
  {
   "cell_type": "code",
   "execution_count": 12,
   "id": "d893e538",
   "metadata": {},
   "outputs": [
    {
     "data": {
      "text/plain": [
       "[4, 2, 3, 1]"
      ]
     },
     "execution_count": 12,
     "metadata": {},
     "output_type": "execute_result"
    }
   ],
   "source": [
    "swap([1,2,3,4])"
   ]
  },
  {
   "cell_type": "code",
   "execution_count": 15,
   "id": "4006b520",
   "metadata": {},
   "outputs": [
    {
     "name": "stdout",
     "output_type": "stream",
     "text": [
      "first (24, 12)\n",
      "(24, 12)\n",
      "[24, 35, 9, 56, 12]\n"
     ]
    }
   ],
   "source": [
    "\n",
    "def swapList(list):\n",
    "     \n",
    "    # Storing the first and last element \n",
    "    # as a pair in a tuple variable get\n",
    "    get = list[-1], list[0]\n",
    "    print('first', get)\n",
    "     \n",
    "    # unpacking those elements\n",
    "    list[0], list[-1] = get\n",
    "    print( get)\n",
    "     \n",
    "    return list\n",
    "     \n",
    "# Driver code\n",
    "newList = [12, 35, 9, 56, 24]\n",
    "print(swapList(newList))"
   ]
  },
  {
   "cell_type": "code",
   "execution_count": null,
   "id": "2d1995d1",
   "metadata": {},
   "outputs": [],
   "source": []
  }
 ],
 "metadata": {
  "kernelspec": {
   "display_name": "Python 3 (ipykernel)",
   "language": "python",
   "name": "python3"
  },
  "language_info": {
   "codemirror_mode": {
    "name": "ipython",
    "version": 3
   },
   "file_extension": ".py",
   "mimetype": "text/x-python",
   "name": "python",
   "nbconvert_exporter": "python",
   "pygments_lexer": "ipython3",
   "version": "3.11.5"
  }
 },
 "nbformat": 4,
 "nbformat_minor": 5
}
